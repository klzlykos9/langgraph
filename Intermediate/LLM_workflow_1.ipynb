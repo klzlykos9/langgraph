{
 "cells": [
  {
   "cell_type": "code",
   "execution_count": null,
   "id": "c94902ca",
   "metadata": {},
   "outputs": [],
   "source": []
  },
  {
   "cell_type": "code",
   "execution_count": 12,
   "id": "3cf02d62",
   "metadata": {},
   "outputs": [],
   "source": [
    "from langgraph.graph import StateGraph, START, END\n",
    "from langchain_google_genai import ChatGoogleGenerativeAI\n",
    "from typing import TypedDict\n",
    "from dotenv import load_dotenv"
   ]
  },
  {
   "cell_type": "code",
   "execution_count": 13,
   "id": "b6acef2b",
   "metadata": {},
   "outputs": [
    {
     "data": {
      "text/plain": [
       "True"
      ]
     },
     "execution_count": 13,
     "metadata": {},
     "output_type": "execute_result"
    }
   ],
   "source": [
    "load_dotenv()"
   ]
  },
  {
   "cell_type": "code",
   "execution_count": 21,
   "id": "515a0e81",
   "metadata": {},
   "outputs": [],
   "source": [
    "model = ChatGoogleGenerativeAI(model = 'gemini-2.5-pro')"
   ]
  },
  {
   "cell_type": "code",
   "execution_count": 22,
   "id": "59a6c2b3",
   "metadata": {},
   "outputs": [],
   "source": [
    "# Create a state\n",
    "\n",
    "class LLMState(TypedDict):\n",
    "\n",
    "    question: str\n",
    "    answer: str"
   ]
  },
  {
   "cell_type": "code",
   "execution_count": 23,
   "id": "9f4c68db",
   "metadata": {},
   "outputs": [],
   "source": [
    "def llm_qa(state: LLMState) -> LLMState:\n",
    "\n",
    "    # extract the question from the state\n",
    "    question = state['question']\n",
    "    # form a prompt\n",
    "    prompt = f\"Answer the following question {question}\"\n",
    "    # ask that question to the LLM\n",
    "    answer = model.invoke(prompt).content\n",
    "    # update the answer to the state\n",
    "    state['answer'] = answer\n",
    "\n",
    "    return state"
   ]
  },
  {
   "cell_type": "code",
   "execution_count": 24,
   "id": "6dc95b6b",
   "metadata": {},
   "outputs": [],
   "source": [
    "# Create a graph\n",
    "\n",
    "graph = StateGraph(LLMState)\n",
    "\n",
    "# add nodes\n",
    "\n",
    "graph.add_node('llm_qa', llm_qa)\n",
    "\n",
    "# add edges\n",
    "graph.add_edge(START, 'llm_qa')\n",
    "graph.add_edge('llm_qa', END )\n",
    "\n",
    "# Compile\n",
    "workflow = graph.compile()"
   ]
  },
  {
   "cell_type": "code",
   "execution_count": 25,
   "id": "ce9e2e48",
   "metadata": {},
   "outputs": [
    {
     "name": "stdout",
     "output_type": "stream",
     "text": [
      "Of course! The distance from the Earth to the Moon isn't a single, simple number because the Moon's orbit is an ellipse, not a perfect circle.\n",
      "\n",
      "Here’s a breakdown from the simple answer to the more detailed one.\n",
      "\n",
      "### The Simple Answer\n",
      "\n",
      "The **average distance** from the center of the Earth to the center of the Moon is about:\n",
      "\n",
      "*   **384,400 kilometers**\n",
      "*   **238,855 miles**\n",
      "\n",
      "---\n",
      "\n",
      "### The Detailed Answer\n",
      "\n",
      "Because the Moon's orbit is elliptical, its distance from Earth changes constantly.\n",
      "\n",
      "*   **Perigee (Closest Point):** When the Moon is at its closest point to Earth, it is about **363,300 km (225,700 miles)** away. A full moon at perigee is often called a \"Supermoon\" because it appears slightly larger and brighter in the sky.\n",
      "\n",
      "*   **Apogee (Farthest Point):** When the Moon is at its farthest point, it is about **405,500 km (252,000 miles)** away. A full moon at apogee is sometimes called a \"Micromoon.\"\n",
      "\n",
      "### Putting the Distance in Perspective\n",
      "\n",
      "It can be hard to grasp just how far away that is. Here are a few ways to visualize it:\n",
      "\n",
      "*   **Fitting the Planets:** At its farthest point, you could fit all the other planets in our solar system (Mercury, Venus, Mars, Jupiter, Saturn, Uranus, and Neptune) in the space between the Earth and the Moon.\n",
      "*   **Travel Time:**\n",
      "    *   **By Light:** It takes light (and radio waves) about **1.3 seconds** to travel from the Moon to the Earth.\n",
      "    *   **By Apollo Spacecraft:** It took the Apollo astronauts about **3 days** to reach the Moon.\n",
      "    *   **By Car:** If you could drive a car at a constant 100 km/h (62 mph), it would take you about **160 days** to drive the distance.\n",
      "\n",
      "### Fun Fact: The Moon is Moving Away!\n",
      "\n",
      "Scientists know the distance to the Moon with incredible precision (down to the millimeter!) by bouncing lasers off of special reflectors left on the surface by the Apollo astronauts.\n",
      "\n",
      "These measurements have confirmed that the Moon is slowly drifting away from Earth at a rate of about **3.8 centimeters (1.5 inches) per year**. This is caused by the tidal forces between the Earth and the Moon.\n"
     ]
    }
   ],
   "source": [
    "# execute\n",
    "\n",
    "initial_state = {'question': 'how far is moon from the earth?'}\n",
    "final_state = workflow.invoke(initial_state)\n",
    "print(final_state['answer'])"
   ]
  },
  {
   "cell_type": "code",
   "execution_count": null,
   "id": "da25c1bd",
   "metadata": {},
   "outputs": [],
   "source": []
  },
  {
   "cell_type": "code",
   "execution_count": null,
   "id": "d42fedad",
   "metadata": {},
   "outputs": [],
   "source": []
  }
 ],
 "metadata": {
  "kernelspec": {
   "display_name": "myenv",
   "language": "python",
   "name": "python3"
  },
  "language_info": {
   "codemirror_mode": {
    "name": "ipython",
    "version": 3
   },
   "file_extension": ".py",
   "mimetype": "text/x-python",
   "name": "python",
   "nbconvert_exporter": "python",
   "pygments_lexer": "ipython3",
   "version": "3.13.7"
  }
 },
 "nbformat": 4,
 "nbformat_minor": 5
}
